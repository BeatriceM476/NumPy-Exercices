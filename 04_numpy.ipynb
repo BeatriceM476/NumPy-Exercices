{
 "cells": [
  {
   "cell_type": "markdown",
   "metadata": {},
   "source": [
    "# NumPy\n",
    "\n",
    "[**NumPy**](https://numpy.org/doc/stable/user/absolute_beginners.html) stands for **Numerical Python**, it is a popular, open-source library that's widely used in science and engineering. Let´s go through the basic concepts!"
   ]
  },
  {
   "cell_type": "code",
   "execution_count": null,
   "metadata": {},
   "outputs": [],
   "source": [
    "print(\"hello\")"
   ]
  },
  {
   "cell_type": "code",
   "execution_count": null,
   "metadata": {},
   "outputs": [
    {
     "name": "stdout",
     "output_type": "stream",
     "text": [
      "[1, 2, 3, 4, 5]\n"
     ]
    },
    {
     "data": {
      "text/plain": [
       "array([[[1, 2, 3],\n",
       "        [4, 5, 6],\n",
       "        [7, 8, 9]],\n",
       "\n",
       "       [[1, 2, 3],\n",
       "        [4, 5, 6],\n",
       "        [7, 8, 9]],\n",
       "\n",
       "       [[1, 2, 3],\n",
       "        [4, 5, 6],\n",
       "        [7, 8, 9]]])"
      ]
     },
     "execution_count": 88,
     "metadata": {},
     "output_type": "execute_result"
    }
   ],
   "source": [
    "# import package\n",
    "import numpy as np\n",
    "\n",
    "# define 1D array\n",
    "my_list = [1,2,3,4,5]\n",
    "print(my_list)\n",
    "my_arr = np.array(my_list)\n",
    "my_arr\n",
    "\n",
    "# define 2D array\n",
    "my_list_nested = [[1,2,3],[4,5,6],[7,8,9]]\n",
    "my_arr_2d = np.array(my_list_nested)\n",
    "my_arr_2d\n",
    "\n",
    "# define 3D array\n",
    "my_list_3d = [[[1,2,3],[4,5,6],[7,8,9]],[[1,2,3],[4,5,6],[7,8,9]],[[1,2,3],[4,5,6],[7,8,9]]]\n",
    "my_arr_3d = np.array(my_list_3d)\n",
    "my_arr_3d\n",
    "\n",
    "# # define odd array to demo error\n",
    "# my_odd_list = [[1,2,3],[4,5]]\n",
    "# arr_odd = np.array(my_odd_list)\n",
    "# arr_odd"
   ]
  },
  {
   "cell_type": "markdown",
   "metadata": {},
   "source": [
    "To see [details](https://numpy.org/doc/stable/user/absolute_beginners.html#how-do-you-know-the-shape-and-size-of-an-array) about your array, print the following properties:\n",
    "  - `.ndim` to see the number of dimensions\n",
    "  - `.shape` to see a tuple representing the numbers of \"rows\" and \"columns\"\n",
    "  - `.size` to see the total number of elements in the array\n",
    "  - `.dtype` to see the data type of the elements that make up the array"
   ]
  },
  {
   "cell_type": "code",
   "execution_count": null,
   "metadata": {},
   "outputs": [
    {
     "data": {
      "text/plain": [
       "dtype('int64')"
      ]
     },
     "execution_count": 14,
     "metadata": {},
     "output_type": "execute_result"
    }
   ],
   "source": [
    "# ndim for each dimension\n",
    "my_arr_2d.ndim\n",
    "\n",
    "# shape for each dimension\n",
    "my_arr_2d.shape\n",
    "\n",
    "# size for each dimension\n",
    "my_arr_2d.size\n",
    "\n",
    "# dtype for each dimension\n",
    "my_arr_2d.dtype"
   ]
  },
  {
   "cell_type": "markdown",
   "metadata": {},
   "source": [
    "## Subsetting and Slicing\n",
    "#### [Indexing](https://numpy.org/doc/stable/user/basics.indexing.html) elements in a one-dimensional array\n",
    "This works the same as with Python lists: simply specify the single index, or specify a range to slice a section. **Please note**: Even if you save the slice to a new variable, you have created a [**view**](https://numpy.org/doc/stable/glossary.html#term-view), _not_ a copy. A view is simply a reference to the original array. To explicitly [make a copy](https://numpy.org/doc/stable/reference/generated/numpy.copy.html), you must use `copy()`. \n"
   ]
  },
  {
   "cell_type": "code",
   "execution_count": null,
   "metadata": {},
   "outputs": [
    {
     "data": {
      "text/plain": [
       "array([4, 5, 6, 7])"
      ]
     },
     "execution_count": 19,
     "metadata": {},
     "output_type": "execute_result"
    }
   ],
   "source": [
    "# create orig_arr\n",
    "orig_list = [1,2,3,4,5,6,7]\n",
    "orig_arr = np.array(orig_list)\n",
    "orig_arr\n",
    "\n",
    "#show indexing and slicing elements of orig_array\n",
    "orig_arr[0]\n",
    "orig_arr[3:]\n"
   ]
  },
  {
   "cell_type": "code",
   "execution_count": 22,
   "metadata": {},
   "outputs": [
    {
     "name": "stdout",
     "output_type": "stream",
     "text": [
      "[1 2 3 4 5 6 7]\n",
      "[100 100 100]\n",
      "[100 100 100   4   5   6   7]\n"
     ]
    }
   ],
   "source": [
    "# create orig_arr\n",
    "print(orig_arr)\n",
    "\n",
    "# assign subset of existing array to new variable\n",
    "new_arr = orig_arr[:3]\n",
    "new_arr\n",
    "\n",
    "# change a value in the new array and print outputs\n",
    "new_arr[:] = 100\n",
    "print(new_arr)\n",
    "print(orig_arr)\n",
    "\n",
    "# --> creating a new variable from the original array, will still alter the original array\n"
   ]
  },
  {
   "cell_type": "code",
   "execution_count": null,
   "metadata": {},
   "outputs": [
    {
     "name": "stdout",
     "output_type": "stream",
     "text": [
      "[2000 2000 2000]\n",
      "[1 2 3 4 5 6 7]\n"
     ]
    }
   ],
   "source": [
    "orig_list = [1,2,3,4,5,6,7]\n",
    "orig_arr = np.array(orig_list)\n",
    "orig_arr\n",
    "\n",
    "# make a copy of the same array subset using copy()\n",
    "copied_arr = orig_arr[:3].copy() # this adds only the first 3 values or orig_arr to the copy\n",
    "copied_arr\n",
    "\n",
    "# change a value in the copied array and print outputs\n",
    "copied_arr[:] = 2000\n",
    "print(copied_arr)\n",
    "print(orig_arr)\n",
    "\n",
    "\n",
    "# --> creating a copy of the original array will prevent alterations to the original\n"
   ]
  },
  {
   "cell_type": "markdown",
   "metadata": {},
   "source": [
    "If you are ever unsure if your array is a copy or a view, you can check by printing the [`arr.base`](https://numpy.org/doc/stable/reference/generated/numpy.ndarray.base.html). A copy will return `None`, but a view will return the array that it is based from. "
   ]
  },
  {
   "cell_type": "code",
   "execution_count": null,
   "metadata": {},
   "outputs": [
    {
     "name": "stdout",
     "output_type": "stream",
     "text": [
      "[100 100 100   4   5   6   7]\n"
     ]
    }
   ],
   "source": [
    "# check .base for each copy\n",
    "print(copied_arr.base)\n",
    "print(new_arr.base)\n"
   ]
  },
  {
   "cell_type": "markdown",
   "metadata": {},
   "source": [
    "#### Indexing a **single item** in a multi-dimensional array\n",
    "This is very much the same as targetting a single item in a regular nested Python list: chain indexes together to indicate the levels (negatives work the same way as with single indexing). There are two possible syntax, both achieve the same result."
   ]
  },
  {
   "cell_type": "code",
   "execution_count": 33,
   "metadata": {},
   "outputs": [
    {
     "name": "stdout",
     "output_type": "stream",
     "text": [
      "[[1 2 3]\n",
      " [4 5 6]\n",
      " [7 8 9]]\n"
     ]
    },
    {
     "data": {
      "text/plain": [
       "np.int64(8)"
      ]
     },
     "execution_count": 33,
     "metadata": {},
     "output_type": "execute_result"
    }
   ],
   "source": [
    "# create 2d array\n",
    "my_list_nested = [[1,2,3],[4,5,6],[7,8,9]]\n",
    "my_arr_2d = np.array(my_list_nested)\n",
    "print(my_arr_2d)\n",
    "\n",
    "# target nested item in multi-d array with [][] syntax\n",
    "my_arr_2d[1][0]\n",
    "\n",
    "# show same indexes together in single [,]\n",
    "my_arr_2d[2,1]"
   ]
  },
  {
   "cell_type": "markdown",
   "metadata": {},
   "source": [
    "#### Select **multiple contiguous items**\n",
    "\n",
    "- Rows are targetted in the first dimension: `arr[start:end, :]` will slice the section between the defined row indexes (all columns). \n",
    "- Columns are targetted in the second dimension: `arr[:, start:end]` will slice the section between the defined column indexes (all rows).\n",
    "\n",
    "Leaving any values undefined assumes \"remainder\", eg. `arr[:,:]` will select the whole array!"
   ]
  },
  {
   "cell_type": "code",
   "execution_count": 35,
   "metadata": {},
   "outputs": [
    {
     "name": "stdout",
     "output_type": "stream",
     "text": [
      "[[1 2 3]\n",
      " [4 5 6]\n",
      " [7 8 9]]\n"
     ]
    },
    {
     "data": {
      "text/plain": [
       "array([[5, 6],\n",
       "       [8, 9]])"
      ]
     },
     "execution_count": 35,
     "metadata": {},
     "output_type": "execute_result"
    }
   ],
   "source": [
    "# create 2d array\n",
    "my_list_nested = [[1,2,3],[4,5,6],[7,8,9]]\n",
    "my_arr_2d = np.array(my_list_nested)\n",
    "print(my_arr_2d)\n",
    "\n",
    "\n",
    "# target some contiguous sections\n",
    "my_arr_2d[1:,1:]\n"
   ]
  },
  {
   "cell_type": "markdown",
   "metadata": {},
   "source": [
    "#### Select **multiple non-contiguous items**\n",
    "To select non-contiguous items, you can instead give a list of comma-separated indexes: `arr[row:row,[col,col,col]]`."
   ]
  },
  {
   "cell_type": "code",
   "execution_count": 37,
   "metadata": {},
   "outputs": [
    {
     "name": "stdout",
     "output_type": "stream",
     "text": [
      "[[1 2 3]\n",
      " [4 5 6]\n",
      " [7 8 9]]\n"
     ]
    },
    {
     "data": {
      "text/plain": [
       "array([4, 6])"
      ]
     },
     "execution_count": 37,
     "metadata": {},
     "output_type": "execute_result"
    }
   ],
   "source": [
    "# create 2d array\n",
    "my_list_nested = [[1,2,3],[4,5,6],[7,8,9]]\n",
    "my_arr_2d = np.array(my_list_nested)\n",
    "print(my_arr_2d)\n",
    "\n",
    "\n",
    "# target some non-contiguous rows or columns\n",
    "my_arr_2d[1, [0,2]]\n"
   ]
  },
  {
   "cell_type": "markdown",
   "metadata": {},
   "source": [
    "## Algebraic Operations\n",
    "\n",
    "Algebraic operations in NumPy apply element-wise. They don’t change the original array—store results in a new variable. You can also operate between arrays, but their shapes must match."
   ]
  },
  {
   "cell_type": "code",
   "execution_count": null,
   "metadata": {},
   "outputs": [
    {
     "name": "stdout",
     "output_type": "stream",
     "text": [
      "[[1 2 3]\n",
      " [4 5 6]\n",
      " [7 8 9]]\n"
     ]
    },
    {
     "data": {
      "text/plain": [
       "array([[ 3,  4,  5],\n",
       "       [ 6,  7,  8],\n",
       "       [ 9, 10, 11]])"
      ]
     },
     "execution_count": 42,
     "metadata": {},
     "output_type": "execute_result"
    }
   ],
   "source": [
    "# create 2d array\n",
    "my_list_nested = [[1,2,3],[4,5,6],[7,8,9]]\n",
    "my_arr_2d = np.array(my_list_nested)\n",
    "print(my_arr_2d)\n",
    "\n",
    "# arr * 2\n",
    "multi = my_arr_2d * 2\n",
    "multi\n",
    "\n",
    "# arr squared\n",
    "\n",
    "\n",
    "# arr + 2\n",
    "added = my_arr_2d + 2\n",
    "added\n",
    "\n",
    "# arr * arr\n",
    "squared = my_arr_2d * my_arr_2d\n",
    "squared"
   ]
  },
  {
   "cell_type": "markdown",
   "metadata": {},
   "source": [
    "## Boolean Array\n",
    "\n",
    "You can apply a comparison operator in the same way as an algebraic operator. This will return a [**boolean array**](https://www.askpython.com/python-modules/numpy/numpy-boolean-array) for whether each value passes the comparison or not. \n",
    "\n",
    "For a quick type check, you can also set `np.array(arrayname, dtype=bool)`, which will check every value for a [truthy/falsy](https://www.freecodecamp.org/news/truthy-and-falsy-values-in-python/) value and return appropriate booleans."
   ]
  },
  {
   "cell_type": "code",
   "execution_count": 44,
   "metadata": {},
   "outputs": [
    {
     "name": "stdout",
     "output_type": "stream",
     "text": [
      "[[1 0 3]\n",
      " [4 5 6]\n",
      " [7 9 0]]\n"
     ]
    },
    {
     "data": {
      "text/plain": [
       "array([[False, False, False],\n",
       "       [False, False,  True],\n",
       "       [ True,  True, False]])"
      ]
     },
     "execution_count": 44,
     "metadata": {},
     "output_type": "execute_result"
    }
   ],
   "source": [
    "# define truthy/falsy boolean array with dtype=bool\n",
    "# create 2d array\n",
    "my_list_nested = [[1,0,3],[4,5,6],[7,9,0]]\n",
    "my_arr_2d = np.array(my_list_nested)\n",
    "print(my_arr_2d)\n",
    "\n",
    "bool1 = np.array(my_arr_2d, dtype=bool)\n",
    "bool1\n",
    "\n",
    "# define boolean array with comparison operator > 5\n",
    "bool2 = my_arr_2d > 5\n",
    "bool2\n"
   ]
  },
  {
   "cell_type": "markdown",
   "metadata": {},
   "source": [
    "## Functions\n",
    "\n",
    "NumPy provides _many_ [statistical](https://numpy.org/doc/stable/reference/routines.statistics.html) and [mathematical](https://numpy.org/doc/stable/reference/routines.math.html) functions that can be applied to its arrays. Some of particular note include:\n",
    "  - `.max()` shows max value of an array\n",
    "  - `.min()` shows min value of an array\n",
    "  - `.argmax()` shows index of max value in an array\n",
    "  - `.argmin()` shows index of min value in an array\n",
    "  - `.sum()` returns the sum of all elements in an array\n",
    "\n",
    "  - `.mean()` shows mean of an array\n",
    "  - `.std()` shows standard deviation of an array"
   ]
  },
  {
   "cell_type": "code",
   "execution_count": 49,
   "metadata": {},
   "outputs": [
    {
     "name": "stdout",
     "output_type": "stream",
     "text": [
      "[[1 0 3]\n",
      " [4 5 6]\n",
      " [7 9 0]]\n"
     ]
    },
    {
     "data": {
      "text/plain": [
       "np.float64(2.997941680718231)"
      ]
     },
     "execution_count": 49,
     "metadata": {},
     "output_type": "execute_result"
    }
   ],
   "source": [
    "# demo some suggested aggregation function\n",
    "print(my_arr_2d)\n",
    "\n",
    "my_arr_2d.std()\n"
   ]
  },
  {
   "cell_type": "markdown",
   "metadata": {},
   "source": [
    "Functions to [.sort()](https://numpy.org/doc/stable/reference/routines.sort.html#sorting-searching-and-counting), [np.concatenate()](https://numpy.org/doc/stable/reference/generated/numpy.concatenate.html) multiple arrays, or [.transpose()](https://numpy.org/doc/stable/reference/generated/numpy.transpose.html) (ie. swapping array axes) are also worth investigating."
   ]
  },
  {
   "cell_type": "code",
   "execution_count": null,
   "metadata": {},
   "outputs": [
    {
     "name": "stdout",
     "output_type": "stream",
     "text": [
      "[[1 0 3]\n",
      " [4 5 6]\n",
      " [7 9 0]]\n"
     ]
    },
    {
     "data": {
      "text/plain": [
       "array([1, 2, 3, 4, 5, 6])"
      ]
     },
     "execution_count": 59,
     "metadata": {},
     "output_type": "execute_result"
    }
   ],
   "source": [
    "# demo sort array\n",
    "import numpy as np\n",
    "\n",
    "arr1 = [21,7,5,7,8,91]\n",
    "arr2 = [34,0,89,12,23,2]\n",
    "\n",
    "# demo sort array\n",
    "arr1.sort()\n",
    "arr1\n",
    "\n",
    "#demo concatenate two arrays\n",
    "np.concatenate((arr1,arr2))\n",
    "\n",
    "# demo transpose 2d array\n",
    "print(my_arr_2d) # before\n",
    "my_arr_2d.transpose() # after\n",
    "\n",
    "# Stack\n",
    "v1 = np.array([1, 2, 3])\n",
    "v2 = np.array([4, 5, 6])\n",
    "np.vstack([v1, v2])\n",
    "np.hstack([v1, v2])"
   ]
  },
  {
   "cell_type": "markdown",
   "metadata": {},
   "source": [
    "## Basic Arrays\n",
    "\n",
    "For convenience, NumPy also have a range of functions to [create a **basic array**](https://numpy.org/doc/stable/reference/routines.array-creation.html) (you will see us do this quite often in spikes to generate \"dummy\" data):\n",
    "  - `np.zeros()` takes an integer to produce an1D array of zeros / `np.zeros(num1,num2)` creates a table\n",
    "  - `np.ones()` does the same for ones\n",
    "  - `np.full()` does the same for any given number / `np.full((3,4)8)` will define a table of 3 rows, 4 columns holding value 8\n",
    "  - `np.arange()`takes a start (optional), an end and increment (optional)\n",
    "  - `np.linspace()` enter start point, end point, and how many elements to be linearly generated between\n",
    "  - `np.eye()` creates a 2D array of zeros with a diagonal of ones. Specify how many columns, and `k=n` indicates the diagonal index. \n",
    "  - `np.random.rand()` random values between 0-1 in given shape\n",
    "  - `np.random.randint()` enter start, end and size for array of random integers\n",
    "\n",
    "Some of these functions will also accept the keyword argument `dtype` to specify the data type if you don't want to use floats. "
   ]
  },
  {
   "cell_type": "code",
   "execution_count": null,
   "metadata": {},
   "outputs": [
    {
     "data": {
      "text/plain": [
       "array([10, 12, 14, 16, 18, 20])"
      ]
     },
     "execution_count": 92,
     "metadata": {},
     "output_type": "execute_result"
    }
   ],
   "source": [
    "# create array of zeros / ones / full\n",
    "np.zeros((5,5))\n",
    "np.ones((5,5), dtype=int)\n",
    "np.full((5,5),6)\n",
    "\n",
    "# # # set some ranges\n",
    "np.arange(10,21,2) # shws all even numbers between 10 and 20\n",
    "\n",
    "# # linspace 0-1, 0-10 (num=100 for both) to demo difference\n",
    "np.linspace(1,11,num=100)\n",
    "\n",
    "# # random in one or two dimensions\n",
    "np.random.rand(3,4)\n",
    "\n",
    "# # # random  integers in one dimension\n",
    "np.random.randint(1,100,20)\n",
    "\n",
    "# # random itengers in two dimensions with defined size\n",
    "np.random.randint(1, 20, size=(3, 3))\n",
    "\n"
   ]
  },
  {
   "cell_type": "markdown",
   "metadata": {},
   "source": [
    "[**Reshaping**](https://numpy.org/doc/stable/reference/generated/numpy.reshape.html) or otherwise [manipulating](https://numpy.org/doc/stable/reference/generated/numpy.ndarray.html) an existing array is sometimes required. You will need to make sure you have enough values to fit the new shape. If you don't know how many rows, you can enter `-1`. "
   ]
  },
  {
   "cell_type": "code",
   "execution_count": null,
   "metadata": {},
   "outputs": [
    {
     "data": {
      "text/plain": [
       "array([[72, 87],\n",
       "       [56, 28],\n",
       "       [14, 51],\n",
       "       [57,  9],\n",
       "       [69, 54]], dtype=int32)"
      ]
     },
     "execution_count": 85,
     "metadata": {},
     "output_type": "execute_result"
    }
   ],
   "source": [
    "# define random int array of 10\n",
    "arr = np.random.randint(1,100,10)\n",
    "arr\n",
    "\n",
    "# reshape to (5,2)\n",
    "arr.reshape(5,2)\n",
    "\n",
    "# reshape with (-1,2)\n",
    "arr.reshape(-1)\n",
    "arr.reshape(-1,2)\n",
    "\n",
    "# \"-1 means: you figure out this dimension automatically based on the array size and the other dimension I provided.\"\n"
   ]
  },
  {
   "cell_type": "markdown",
   "metadata": {},
   "source": [
    "NumPy [official documentation](https://numpy.org/doc/stable/user/basics.html) is very thorough if you want to look deeper into any functionalities it provides. [W3Schools](https://www.w3schools.com/python/numpy/numpy_intro.asp) also have a great NumPy documentation that outlines basic use-cases with great examples. The library updates quite often though, so it can be some of their examples are a little bit outdated. Always refer back to the official documentation if you are unsure."
   ]
  }
 ],
 "metadata": {
  "kernelspec": {
   "display_name": "CodeAcademyBasic",
   "language": "python",
   "name": "python3"
  },
  "language_info": {
   "codemirror_mode": {
    "name": "ipython",
    "version": 3
   },
   "file_extension": ".py",
   "mimetype": "text/x-python",
   "name": "python",
   "nbconvert_exporter": "python",
   "pygments_lexer": "ipython3",
   "version": "3.12.9"
  }
 },
 "nbformat": 4,
 "nbformat_minor": 2
}
